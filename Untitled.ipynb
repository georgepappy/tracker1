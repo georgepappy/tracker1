{
 "cells": [
  {
   "cell_type": "code",
   "execution_count": 3,
   "id": "3a4d1073-36f2-41c3-918a-b7690b991f9b",
   "metadata": {},
   "outputs": [],
   "source": [
    "from flask import Flask\n",
    "from flask import request, render_template, jsonify\n",
    "from flask_sqlalchemy import SQLAlchemy\n",
    "from flask_wtf import FlaskForm\n",
    "from wtforms import SelectField"
   ]
  },
  {
   "cell_type": "code",
   "execution_count": null,
   "id": "622c060c-8018-4aae-9c5c-9275ab8d61fa",
   "metadata": {},
   "outputs": [],
   "source": []
  }
 ],
 "metadata": {
  "kernelspec": {
   "display_name": "Python [conda env:metis] *",
   "language": "python",
   "name": "conda-env-metis-py"
  },
  "language_info": {
   "codemirror_mode": {
    "name": "ipython",
    "version": 3
   },
   "file_extension": ".py",
   "mimetype": "text/x-python",
   "name": "python",
   "nbconvert_exporter": "python",
   "pygments_lexer": "ipython3",
   "version": "3.8.10"
  }
 },
 "nbformat": 4,
 "nbformat_minor": 5
}
